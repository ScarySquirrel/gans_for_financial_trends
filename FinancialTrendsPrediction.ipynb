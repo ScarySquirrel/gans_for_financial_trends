{
  "nbformat": 4,
  "nbformat_minor": 0,
  "metadata": {
    "colab": {
      "provenance": [],
      "authorship_tag": "ABX9TyOq6qHYRjgQjEAsJ8MR3lBp",
      "include_colab_link": true
    },
    "kernelspec": {
      "name": "python3",
      "display_name": "Python 3"
    },
    "language_info": {
      "name": "python"
    }
  },
  "cells": [
    {
      "cell_type": "markdown",
      "metadata": {
        "id": "view-in-github",
        "colab_type": "text"
      },
      "source": [
        "<a href=\"https://colab.research.google.com/github/ScarySquirrel/gans_for_financial_trends/blob/main/FinancialTrendsPrediction.ipynb\" target=\"_parent\"><img src=\"https://colab.research.google.com/assets/colab-badge.svg\" alt=\"Open In Colab\"/></a>"
      ]
    },
    {
      "source": [
        "import kagglehub\n",
        "equinxx_stock_tweets_for_sentiment_analysis_and_prediction_path = kagglehub.dataset_download('equinxx/stock-tweets-for-sentiment-analysis-and-prediction')\n",
        "\n",
        "print('Data source import complete.')\n"
      ],
      "metadata": {
        "id": "Sbw-GSyR7sBH"
      },
      "cell_type": "code",
      "outputs": [],
      "execution_count": null
    },
    {
      "cell_type": "markdown",
      "source": [
        "<a id=\"section-one\"></a>\n",
        "# Import packages"
      ],
      "metadata": {
        "id": "mrCNXX827sBJ"
      }
    },
    {
      "cell_type": "code",
      "source": [
        "import os\n",
        "import numpy as np\n",
        "import csv\n",
        "import pandas as pd\n",
        "import matplotlib.pyplot as plt\n",
        "from matplotlib.dates import DateFormatter\n",
        "import math\n",
        "import time\n",
        "import tensorflow as tf\n",
        "from tensorflow.keras.layers import GRU, LSTM, Bidirectional, Dense, Flatten, Conv1D, BatchNormalization, LeakyReLU, Dropout\n",
        "from tensorflow.keras import Sequential\n",
        "from keras.utils.vis_utils import plot_model\n",
        "from pickle import load\n",
        "from sklearn.metrics import mean_squared_error\n",
        "from tqdm import tqdm\n",
        "import statsmodels.api as sm\n",
        "from math import sqrt\n",
        "from datetime import datetime, timedelta\n",
        "from sklearn.preprocessing import MinMaxScaler\n",
        "from pickle import dump\n",
        "from nltk.sentiment.vader import SentimentIntensityAnalyzer\n",
        "from nltk.sentiment.vader import SentimentIntensityAnalyzer\n",
        "import unicodedata\n",
        "\n",
        "import warnings\n",
        "warnings.filterwarnings(\"ignore\")"
      ],
      "metadata": {
        "execution": {
          "iopub.status.busy": "2024-12-20T07:17:53.573627Z",
          "iopub.execute_input": "2024-12-20T07:17:53.576831Z",
          "iopub.status.idle": "2024-12-20T07:18:03.506564Z",
          "shell.execute_reply.started": "2024-12-20T07:17:53.57668Z",
          "shell.execute_reply": "2024-12-20T07:18:03.505255Z"
        },
        "trusted": true,
        "id": "y-D3JYWj7sBJ"
      },
      "outputs": [],
      "execution_count": null
    },
    {
      "cell_type": "code",
      "source": [
        "stock_name = 'AMZN'"
      ],
      "metadata": {
        "execution": {
          "iopub.status.busy": "2024-12-20T07:18:03.510192Z",
          "iopub.execute_input": "2024-12-20T07:18:03.510944Z",
          "iopub.status.idle": "2024-12-20T07:18:03.52294Z",
          "shell.execute_reply.started": "2024-12-20T07:18:03.510908Z",
          "shell.execute_reply": "2024-12-20T07:18:03.520041Z"
        },
        "trusted": true,
        "id": "2v2EoU567sBK"
      },
      "outputs": [],
      "execution_count": null
    },
    {
      "cell_type": "code",
      "source": [
        "all_tweets = pd.read_csv('/kaggle/input/stock-tweets-for-sentiment-analysis-and-prediction/stock_tweets.csv')"
      ],
      "metadata": {
        "execution": {
          "iopub.status.busy": "2024-12-20T07:18:03.527891Z",
          "iopub.execute_input": "2024-12-20T07:18:03.528329Z",
          "iopub.status.idle": "2024-12-20T07:18:04.295299Z",
          "shell.execute_reply.started": "2024-12-20T07:18:03.528295Z",
          "shell.execute_reply": "2024-12-20T07:18:04.294342Z"
        },
        "trusted": true,
        "id": "gvq3kslM7sBK"
      },
      "outputs": [],
      "execution_count": null
    },
    {
      "cell_type": "code",
      "source": [
        "print(all_tweets.shape)\n",
        "all_tweets.head()"
      ],
      "metadata": {
        "execution": {
          "iopub.status.busy": "2024-12-20T07:18:04.298366Z",
          "iopub.execute_input": "2024-12-20T07:18:04.298707Z",
          "iopub.status.idle": "2024-12-20T07:18:04.334075Z",
          "shell.execute_reply.started": "2024-12-20T07:18:04.298677Z",
          "shell.execute_reply": "2024-12-20T07:18:04.333247Z"
        },
        "trusted": true,
        "id": "cX7b0zoE7sBK"
      },
      "outputs": [],
      "execution_count": null
    },
    {
      "cell_type": "code",
      "source": [
        "df = all_tweets[all_tweets['Stock Name'] == stock_name]\n",
        "print(df.shape)\n",
        "df.head()"
      ],
      "metadata": {
        "execution": {
          "iopub.status.busy": "2024-12-20T07:18:04.337918Z",
          "iopub.execute_input": "2024-12-20T07:18:04.338247Z",
          "iopub.status.idle": "2024-12-20T07:18:04.371924Z",
          "shell.execute_reply.started": "2024-12-20T07:18:04.338219Z",
          "shell.execute_reply": "2024-12-20T07:18:04.371029Z"
        },
        "trusted": true,
        "id": "Vf255T7i7sBK"
      },
      "outputs": [],
      "execution_count": null
    },
    {
      "cell_type": "code",
      "source": [
        "sent_df = df.copy()\n",
        "sent_df[\"sentiment_score\"] = ''\n",
        "sent_df[\"Negative\"] = ''\n",
        "sent_df[\"Neutral\"] = ''\n",
        "sent_df[\"Positive\"] = ''\n",
        "sent_df.head()"
      ],
      "metadata": {
        "execution": {
          "iopub.status.busy": "2024-12-20T07:18:04.375705Z",
          "iopub.execute_input": "2024-12-20T07:18:04.376059Z",
          "iopub.status.idle": "2024-12-20T07:18:04.399999Z",
          "shell.execute_reply.started": "2024-12-20T07:18:04.376028Z",
          "shell.execute_reply": "2024-12-20T07:18:04.39909Z"
        },
        "trusted": true,
        "id": "AGDzbuft7sBK"
      },
      "outputs": [],
      "execution_count": null
    },
    {
      "cell_type": "code",
      "source": [
        "%%time\n",
        "sentiment_analyzer = SentimentIntensityAnalyzer()\n",
        "for indx, row in sent_df.T.iteritems():\n",
        "    try:\n",
        "        sentence_i = unicodedata.normalize('NFKD', sent_df.loc[indx, 'Tweet'])\n",
        "        sentence_sentiment = sentiment_analyzer.polarity_scores(sentence_i)\n",
        "        sent_df.at[indx, 'sentiment_score'] = sentence_sentiment['compound']\n",
        "        sent_df.at[indx, 'Negative'] = sentence_sentiment['neg']\n",
        "        sent_df.at[indx, 'Neutral'] = sentence_sentiment['neu']\n",
        "        sent_df.at[indx, 'Positive'] = sentence_sentiment['pos']\n",
        "    except TypeError:\n",
        "        print (sent_df.loc[indexx, 'Tweet'])\n",
        "        print (indx)\n",
        "        break"
      ],
      "metadata": {
        "execution": {
          "iopub.status.busy": "2024-12-20T07:18:04.404124Z",
          "iopub.execute_input": "2024-12-20T07:18:04.404473Z",
          "iopub.status.idle": "2024-12-20T07:18:06.9622Z",
          "shell.execute_reply.started": "2024-12-20T07:18:04.404446Z",
          "shell.execute_reply": "2024-12-20T07:18:06.961291Z"
        },
        "trusted": true,
        "id": "qTMRu0Mi7sBL"
      },
      "outputs": [],
      "execution_count": null
    },
    {
      "cell_type": "code",
      "source": [
        "sent_df.head()"
      ],
      "metadata": {
        "execution": {
          "iopub.status.busy": "2024-12-20T07:18:06.966453Z",
          "iopub.execute_input": "2024-12-20T07:18:06.966798Z",
          "iopub.status.idle": "2024-12-20T07:18:06.987537Z",
          "shell.execute_reply.started": "2024-12-20T07:18:06.966763Z",
          "shell.execute_reply": "2024-12-20T07:18:06.986721Z"
        },
        "trusted": true,
        "id": "ksBDgYyF7sBL"
      },
      "outputs": [],
      "execution_count": null
    },
    {
      "cell_type": "code",
      "source": [
        "sent_df['Date'] = pd.to_datetime(sent_df['Date'])\n",
        "sent_df['Date'] = sent_df['Date'].dt.date\n",
        "sent_df = sent_df.drop(columns=['Negative', 'Positive', 'Neutral', 'Stock Name', 'Company Name'])"
      ],
      "metadata": {
        "execution": {
          "iopub.status.busy": "2024-12-20T07:18:06.992066Z",
          "iopub.execute_input": "2024-12-20T07:18:06.996081Z",
          "iopub.status.idle": "2024-12-20T07:18:07.019384Z",
          "shell.execute_reply.started": "2024-12-20T07:18:06.996038Z",
          "shell.execute_reply": "2024-12-20T07:18:07.018074Z"
        },
        "trusted": true,
        "id": "M2unJpJb7sBL"
      },
      "outputs": [],
      "execution_count": null
    },
    {
      "cell_type": "code",
      "source": [
        "sent_df.head()"
      ],
      "metadata": {
        "execution": {
          "iopub.status.busy": "2024-12-20T07:18:07.022843Z",
          "iopub.execute_input": "2024-12-20T07:18:07.023228Z",
          "iopub.status.idle": "2024-12-20T07:18:07.041977Z",
          "shell.execute_reply.started": "2024-12-20T07:18:07.023193Z",
          "shell.execute_reply": "2024-12-20T07:18:07.041119Z"
        },
        "trusted": true,
        "id": "JfoHcfny7sBL"
      },
      "outputs": [],
      "execution_count": null
    },
    {
      "cell_type": "code",
      "source": [
        "twitter_df = sent_df.groupby([sent_df['Date']]).mean()\n",
        "print(twitter_df.shape)"
      ],
      "metadata": {
        "execution": {
          "iopub.status.busy": "2024-12-20T07:18:07.046653Z",
          "iopub.execute_input": "2024-12-20T07:18:07.04716Z",
          "iopub.status.idle": "2024-12-20T07:18:07.10751Z",
          "shell.execute_reply.started": "2024-12-20T07:18:07.046979Z",
          "shell.execute_reply": "2024-12-20T07:18:07.106776Z"
        },
        "trusted": true,
        "id": "DTX9dn1O7sBL"
      },
      "outputs": [],
      "execution_count": null
    },
    {
      "cell_type": "code",
      "source": [
        "twitter_df.head()"
      ],
      "metadata": {
        "execution": {
          "iopub.status.busy": "2024-12-20T07:18:07.111427Z",
          "iopub.execute_input": "2024-12-20T07:18:07.111754Z",
          "iopub.status.idle": "2024-12-20T07:18:07.131569Z",
          "shell.execute_reply.started": "2024-12-20T07:18:07.111727Z",
          "shell.execute_reply": "2024-12-20T07:18:07.130777Z"
        },
        "trusted": true,
        "id": "X0xixtaL7sBM"
      },
      "outputs": [],
      "execution_count": null
    },
    {
      "cell_type": "code",
      "source": [
        "all_stocks = pd.read_csv('/kaggle/input/stock-tweets-for-sentiment-analysis-and-prediction/stock_yfinance_data.csv')\n",
        "print(all_stocks.shape)\n",
        "all_stocks.head()"
      ],
      "metadata": {
        "execution": {
          "iopub.status.busy": "2024-12-20T07:18:07.13476Z",
          "iopub.execute_input": "2024-12-20T07:18:07.135106Z",
          "iopub.status.idle": "2024-12-20T07:18:07.195624Z",
          "shell.execute_reply.started": "2024-12-20T07:18:07.135078Z",
          "shell.execute_reply": "2024-12-20T07:18:07.194863Z"
        },
        "trusted": true,
        "id": "QOjmJWRf7sBM"
      },
      "outputs": [],
      "execution_count": null
    },
    {
      "cell_type": "code",
      "source": [
        "stock_df = all_stocks[all_stocks['Stock Name'] == stock_name]\n",
        "stock_df['Date'] = pd.to_datetime(stock_df['Date'])\n",
        "stock_df['Date'] = stock_df['Date'].dt.date"
      ],
      "metadata": {
        "execution": {
          "iopub.status.busy": "2024-12-20T07:18:07.199649Z",
          "iopub.execute_input": "2024-12-20T07:18:07.199974Z",
          "iopub.status.idle": "2024-12-20T07:18:07.214351Z",
          "shell.execute_reply.started": "2024-12-20T07:18:07.199948Z",
          "shell.execute_reply": "2024-12-20T07:18:07.213094Z"
        },
        "trusted": true,
        "id": "ymOJQ5gM7sBM"
      },
      "outputs": [],
      "execution_count": null
    },
    {
      "cell_type": "code",
      "source": [
        "final_df = stock_df.join(twitter_df, how=\"left\", on=\"Date\")\n",
        "final_df = final_df.drop(columns=['Stock Name'])\n",
        "print(final_df.shape)"
      ],
      "metadata": {
        "execution": {
          "iopub.status.busy": "2024-12-20T07:18:07.218836Z",
          "iopub.execute_input": "2024-12-20T07:18:07.22114Z",
          "iopub.status.idle": "2024-12-20T07:18:07.239532Z",
          "shell.execute_reply.started": "2024-12-20T07:18:07.221096Z",
          "shell.execute_reply": "2024-12-20T07:18:07.238681Z"
        },
        "trusted": true,
        "id": "nj46eiQa7sBM"
      },
      "outputs": [],
      "execution_count": null
    },
    {
      "cell_type": "code",
      "source": [
        "final_df.head()"
      ],
      "metadata": {
        "execution": {
          "iopub.status.busy": "2024-12-20T07:18:07.243665Z",
          "iopub.execute_input": "2024-12-20T07:18:07.244961Z",
          "iopub.status.idle": "2024-12-20T07:18:07.265576Z",
          "shell.execute_reply.started": "2024-12-20T07:18:07.244918Z",
          "shell.execute_reply": "2024-12-20T07:18:07.264741Z"
        },
        "trusted": true,
        "id": "lcXBsd9G7sBM"
      },
      "outputs": [],
      "execution_count": null
    },
    {
      "cell_type": "code",
      "source": [
        "fig, ax = plt.subplots(figsize=(15,8))\n",
        "ax.plot(final_df['Date'], final_df['Close'], color='#008B8B')\n",
        "ax.set(xlabel=\"Date\", ylabel=\"USD\", title=f\"{stock_name} Stock Price\")\n",
        "ax.xaxis.set_major_formatter(DateFormatter(\"%Y\"))\n",
        "plt.show()"
      ],
      "metadata": {
        "execution": {
          "iopub.status.busy": "2024-12-20T07:18:07.269378Z",
          "iopub.execute_input": "2024-12-20T07:18:07.269711Z",
          "iopub.status.idle": "2024-12-20T07:18:07.498656Z",
          "shell.execute_reply.started": "2024-12-20T07:18:07.269682Z",
          "shell.execute_reply": "2024-12-20T07:18:07.497751Z"
        },
        "trusted": true,
        "id": "fcPiKmHp7sBM"
      },
      "outputs": [],
      "execution_count": null
    },
    {
      "cell_type": "code",
      "source": [
        "def get_tech_ind(data):\n",
        "    data['MA7'] = data.iloc[:,4].rolling(window=7).mean() #Close column\n",
        "    data['MA20'] = data.iloc[:,4].rolling(window=20).mean() #Close Column\n",
        "\n",
        "    data['MACD'] = data.iloc[:,4].ewm(span=26).mean() - data.iloc[:,1].ewm(span=12,adjust=False).mean()\n",
        "    #This is the difference of Closing price and Opening Price\n",
        "\n",
        "    # Create Bollinger Bands\n",
        "    data['20SD'] = data.iloc[:, 4].rolling(20).std()\n",
        "    data['upper_band'] = data['MA20'] + (data['20SD'] * 2)\n",
        "    data['lower_band'] = data['MA20'] - (data['20SD'] * 2)\n",
        "\n",
        "    # Create Exponential moving average\n",
        "    data['EMA'] = data.iloc[:,4].ewm(com=0.5).mean()\n",
        "\n",
        "    # Create LogMomentum\n",
        "    data['logmomentum'] = np.log(data.iloc[:,4] - 1)\n",
        "\n",
        "    return data"
      ],
      "metadata": {
        "execution": {
          "iopub.status.busy": "2024-12-20T07:18:07.501735Z",
          "iopub.execute_input": "2024-12-20T07:18:07.502522Z",
          "iopub.status.idle": "2024-12-20T07:18:07.516074Z",
          "shell.execute_reply.started": "2024-12-20T07:18:07.502467Z",
          "shell.execute_reply": "2024-12-20T07:18:07.515166Z"
        },
        "trusted": true,
        "id": "m4G7hOEz7sBN"
      },
      "outputs": [],
      "execution_count": null
    },
    {
      "cell_type": "code",
      "source": [
        "tech_df = get_tech_ind(final_df)\n",
        "dataset = tech_df.iloc[20:,:].reset_index(drop=True)\n",
        "dataset.head()"
      ],
      "metadata": {
        "execution": {
          "iopub.status.busy": "2024-12-20T07:18:07.520831Z",
          "iopub.execute_input": "2024-12-20T07:18:07.521234Z",
          "iopub.status.idle": "2024-12-20T07:18:07.556253Z",
          "shell.execute_reply.started": "2024-12-20T07:18:07.521198Z",
          "shell.execute_reply": "2024-12-20T07:18:07.55538Z"
        },
        "trusted": true,
        "id": "U4F4kSuW7sBN"
      },
      "outputs": [],
      "execution_count": null
    },
    {
      "cell_type": "code",
      "source": [
        "def tech_ind(dataset):\n",
        "    fig,ax = plt.subplots(figsize=(15, 8), dpi = 200)\n",
        "    x_ = range(3, dataset.shape[0])\n",
        "    x_ = list(dataset.index)\n",
        "\n",
        "    ax.plot(dataset['Date'], dataset['MA7'], label='Moving Average (7 days)', color='g', linestyle='--')\n",
        "    ax.plot(dataset['Date'], dataset['Close'], label='Closing Price', color='#6A5ACD')\n",
        "    ax.plot(dataset['Date'], dataset['MA20'], label='Moving Average (20 days)', color='r', linestyle='-.')\n",
        "    ax.xaxis.set_major_formatter(DateFormatter(\"%Y\"))\n",
        "    plt.title('Technical indicators')\n",
        "    plt.ylabel('Close (USD)')\n",
        "    plt.xlabel(\"Year\")\n",
        "    plt.legend()\n",
        "\n",
        "    plt.show()"
      ],
      "metadata": {
        "execution": {
          "iopub.status.busy": "2024-12-20T07:18:07.560031Z",
          "iopub.execute_input": "2024-12-20T07:18:07.560346Z",
          "iopub.status.idle": "2024-12-20T07:18:07.571154Z",
          "shell.execute_reply.started": "2024-12-20T07:18:07.560318Z",
          "shell.execute_reply": "2024-12-20T07:18:07.570094Z"
        },
        "trusted": true,
        "id": "o-Bv_ITw7sBN"
      },
      "outputs": [],
      "execution_count": null
    },
    {
      "cell_type": "code",
      "source": [
        "tech_ind(tech_df)"
      ],
      "metadata": {
        "execution": {
          "iopub.status.busy": "2024-12-20T07:18:07.574732Z",
          "iopub.execute_input": "2024-12-20T07:18:07.575068Z",
          "iopub.status.idle": "2024-12-20T07:18:08.113649Z",
          "shell.execute_reply.started": "2024-12-20T07:18:07.575038Z",
          "shell.execute_reply": "2024-12-20T07:18:08.112767Z"
        },
        "trusted": true,
        "id": "cjBd-Aj67sBN"
      },
      "outputs": [],
      "execution_count": null
    },
    {
      "cell_type": "code",
      "source": [
        "dataset.iloc[:, 1:] = pd.concat([dataset.iloc[:, 1:].ffill()])"
      ],
      "metadata": {
        "execution": {
          "iopub.status.busy": "2024-12-20T07:18:08.114656Z",
          "iopub.execute_input": "2024-12-20T07:18:08.11493Z",
          "iopub.status.idle": "2024-12-20T07:18:08.138101Z",
          "shell.execute_reply.started": "2024-12-20T07:18:08.114904Z",
          "shell.execute_reply": "2024-12-20T07:18:08.13572Z"
        },
        "trusted": true,
        "id": "lrtV7xmy7sBN"
      },
      "outputs": [],
      "execution_count": null
    },
    {
      "cell_type": "code",
      "source": [
        "datetime_series = pd.to_datetime(dataset['Date'])\n",
        "datetime_index = pd.DatetimeIndex(datetime_series.values)\n",
        "dataset = dataset.set_index(datetime_index)\n",
        "dataset = dataset.sort_values(by='Date')\n",
        "dataset = dataset.drop(columns='Date')"
      ],
      "metadata": {
        "execution": {
          "iopub.status.busy": "2024-12-20T07:18:08.139384Z",
          "iopub.execute_input": "2024-12-20T07:18:08.13971Z",
          "iopub.status.idle": "2024-12-20T07:18:08.157912Z",
          "shell.execute_reply.started": "2024-12-20T07:18:08.13968Z",
          "shell.execute_reply": "2024-12-20T07:18:08.156327Z"
        },
        "trusted": true,
        "id": "nps8eges7sBN"
      },
      "outputs": [],
      "execution_count": null
    },
    {
      "cell_type": "code",
      "source": [
        "def normalize_data(df, range, target_column):\n",
        "\n",
        "    '''\n",
        "    df: dataframe object\n",
        "    range: type tuple -> (lower_bound, upper_bound)\n",
        "        lower_bound: int\n",
        "        upper_bound: int\n",
        "    target_column: type str -> should reflect closing price of stock\n",
        "    '''\n",
        "\n",
        "    target_df_series = pd.DataFrame(df[target_column])\n",
        "    data = pd.DataFrame(df.iloc[:, :])\n",
        "\n",
        "    X_scaler = MinMaxScaler(feature_range=range)\n",
        "    y_scaler = MinMaxScaler(feature_range=range)\n",
        "    X_scaler.fit(data)\n",
        "    y_scaler.fit(target_df_series)\n",
        "\n",
        "    X_scale_dataset = X_scaler.fit_transform(data)\n",
        "    y_scale_dataset = y_scaler.fit_transform(target_df_series)\n",
        "\n",
        "    dump(X_scaler, open('X_scaler.pkl', 'wb'))\n",
        "    dump(y_scaler, open('y_scaler.pkl', 'wb'))\n",
        "\n",
        "    return (X_scale_dataset,y_scale_dataset)"
      ],
      "metadata": {
        "execution": {
          "iopub.status.busy": "2024-12-20T07:18:08.162966Z",
          "iopub.execute_input": "2024-12-20T07:18:08.165276Z",
          "iopub.status.idle": "2024-12-20T07:18:08.175111Z",
          "shell.execute_reply.started": "2024-12-20T07:18:08.165233Z",
          "shell.execute_reply": "2024-12-20T07:18:08.174021Z"
        },
        "trusted": true,
        "id": "rXUEk6Uc7sBN"
      },
      "outputs": [],
      "execution_count": null
    },
    {
      "cell_type": "code",
      "source": [
        "def batch_data(x_data,y_data, batch_size, predict_period):\n",
        "    X_batched, y_batched, yc = list(), list(), list()\n",
        "\n",
        "    for i in range(0,len(x_data),1):\n",
        "        x_value = x_data[i: i + batch_size][:, :]\n",
        "        y_value = y_data[i + batch_size: i + batch_size + predict_period][:, 0]\n",
        "        yc_value = y_data[i: i + batch_size][:, :]\n",
        "        if len(x_value) == batch_size and len(y_value) == predict_period:\n",
        "            X_batched.append(x_value)\n",
        "            y_batched.append(y_value)\n",
        "            yc.append(yc_value)\n",
        "\n",
        "    return np.array(X_batched), np.array(y_batched), np.array(yc)"
      ],
      "metadata": {
        "execution": {
          "iopub.status.busy": "2024-12-20T07:18:08.180382Z",
          "iopub.execute_input": "2024-12-20T07:18:08.180755Z",
          "iopub.status.idle": "2024-12-20T07:18:08.19216Z",
          "shell.execute_reply.started": "2024-12-20T07:18:08.180726Z",
          "shell.execute_reply": "2024-12-20T07:18:08.191066Z"
        },
        "trusted": true,
        "id": "ak1pZY_b7sBQ"
      },
      "outputs": [],
      "execution_count": null
    },
    {
      "cell_type": "code",
      "source": [
        "def split_train_test(data):\n",
        "    train_size = len(data) - 20\n",
        "    data_train = data[0:train_size]\n",
        "    data_test = data[train_size:]\n",
        "    return data_train, data_test"
      ],
      "metadata": {
        "execution": {
          "iopub.status.busy": "2024-12-20T07:18:08.197094Z",
          "iopub.execute_input": "2024-12-20T07:18:08.19894Z",
          "iopub.status.idle": "2024-12-20T07:18:08.207766Z",
          "shell.execute_reply.started": "2024-12-20T07:18:08.198897Z",
          "shell.execute_reply": "2024-12-20T07:18:08.206771Z"
        },
        "trusted": true,
        "id": "yhAxBGnd7sBR"
      },
      "outputs": [],
      "execution_count": null
    },
    {
      "cell_type": "code",
      "source": [
        "def predict_index(dataset, X_train, batch_size, prediction_period):\n",
        "\n",
        "    # get the predict data (remove the in_steps days)\n",
        "    train_predict_index = dataset.iloc[batch_size: X_train.shape[0] + batch_size + prediction_period, :].index\n",
        "    test_predict_index = dataset.iloc[X_train.shape[0] + batch_size:, :].index\n",
        "\n",
        "    return train_predict_index, test_predict_index"
      ],
      "metadata": {
        "execution": {
          "iopub.status.busy": "2024-12-20T07:18:08.217364Z",
          "iopub.execute_input": "2024-12-20T07:18:08.217713Z",
          "iopub.status.idle": "2024-12-20T07:18:08.226074Z",
          "shell.execute_reply.started": "2024-12-20T07:18:08.217684Z",
          "shell.execute_reply": "2024-12-20T07:18:08.225119Z"
        },
        "trusted": true,
        "id": "DhJVylYJ7sBR"
      },
      "outputs": [],
      "execution_count": null
    },
    {
      "cell_type": "code",
      "source": [
        "X_scale_dataset,y_scale_dataset = normalize_data(dataset, (-1,1), \"Close\")\n",
        "X_batched, y_batched, yc = batch_data(X_scale_dataset, y_scale_dataset, batch_size = 5, predict_period = 1)\n",
        "print(\"X shape:\", X_batched.shape)\n",
        "print(\"y shape:\", y_batched.shape)\n",
        "print(\"yc shape:\", yc.shape)\n",
        "\n",
        "X_train, X_test, = split_train_test(X_batched)\n",
        "y_train, y_test, = split_train_test(y_batched)\n",
        "yc_train, yc_test, = split_train_test(yc)\n",
        "index_train, index_test, = predict_index(dataset, X_train, 5, 1)"
      ],
      "metadata": {
        "execution": {
          "iopub.status.busy": "2024-12-20T07:18:08.228153Z",
          "iopub.execute_input": "2024-12-20T07:18:08.228475Z",
          "iopub.status.idle": "2024-12-20T07:18:08.257701Z",
          "shell.execute_reply.started": "2024-12-20T07:18:08.228448Z",
          "shell.execute_reply": "2024-12-20T07:18:08.256925Z"
        },
        "trusted": true,
        "id": "nWKbgR4C7sBR"
      },
      "outputs": [],
      "execution_count": null
    },
    {
      "cell_type": "code",
      "source": [
        "input_dim = X_train.shape[1]\n",
        "feature_size = X_train.shape[2]\n",
        "output_dim = y_train.shape[1]"
      ],
      "metadata": {
        "execution": {
          "iopub.status.busy": "2024-12-20T07:18:08.261618Z",
          "iopub.execute_input": "2024-12-20T07:18:08.261955Z",
          "iopub.status.idle": "2024-12-20T07:18:08.270207Z",
          "shell.execute_reply.started": "2024-12-20T07:18:08.261927Z",
          "shell.execute_reply": "2024-12-20T07:18:08.269117Z"
        },
        "trusted": true,
        "id": "MbIOMf1Q7sBR"
      },
      "outputs": [],
      "execution_count": null
    },
    {
      "cell_type": "code",
      "source": [
        "def make_generator_model(input_dim, output_dim, feature_size):\n",
        "    model = tf.keras.Sequential([LSTM(units = 1024, return_sequences = True,\n",
        "                                    input_shape=(input_dim, feature_size),recurrent_dropout = 0.3),\n",
        "                               LSTM(units = 512, return_sequences = True, recurrent_dropout = 0.3),\n",
        "                               LSTM(units = 256, return_sequences = True, recurrent_dropout = 0.3),\n",
        "                               LSTM(units = 128, return_sequences = True, recurrent_dropout = 0.3),\n",
        "                               LSTM(units = 64, recurrent_dropout = 0.3),\n",
        "                               Dense(32),\n",
        "                               Dense(16),\n",
        "                               Dense(8),\n",
        "                               Dense(units=output_dim)])\n",
        "    return model"
      ],
      "metadata": {
        "execution": {
          "iopub.status.busy": "2024-12-20T07:18:08.272605Z",
          "iopub.execute_input": "2024-12-20T07:18:08.276466Z",
          "iopub.status.idle": "2024-12-20T07:18:08.285973Z",
          "shell.execute_reply.started": "2024-12-20T07:18:08.276424Z",
          "shell.execute_reply": "2024-12-20T07:18:08.284895Z"
        },
        "trusted": true,
        "id": "jaUGTvzd7sBR"
      },
      "outputs": [],
      "execution_count": null
    },
    {
      "cell_type": "code",
      "source": [
        "def make_discriminator_model(input_dim):\n",
        "    cnn_net = tf.keras.Sequential()\n",
        "    cnn_net.add(Conv1D(8, input_shape=(input_dim+1, 1), kernel_size=3, strides=2, padding='same', activation=LeakyReLU(alpha=0.01)))\n",
        "    cnn_net.add(Conv1D(16, kernel_size=3, strides=2, padding='same', activation=LeakyReLU(alpha=0.01)))\n",
        "    cnn_net.add(Conv1D(32, kernel_size=3, strides=2, padding='same', activation=LeakyReLU(alpha=0.01)))\n",
        "    cnn_net.add(Conv1D(64, kernel_size=3, strides=2, padding='same', activation=LeakyReLU(alpha=0.01)))\n",
        "    cnn_net.add(Conv1D(128, kernel_size=1, strides=2, padding='same', activation=LeakyReLU(alpha=0.01)))\n",
        "    #cnn_net.add(Flatten())\n",
        "    cnn_net.add(LeakyReLU())\n",
        "    cnn_net.add(Dense(220, use_bias=False))\n",
        "    cnn_net.add(LeakyReLU())\n",
        "    cnn_net.add(Dense(220, use_bias=False, activation='relu'))\n",
        "    cnn_net.add(Dense(1, activation='sigmoid'))\n",
        "    return cnn_net"
      ],
      "metadata": {
        "execution": {
          "iopub.status.busy": "2024-12-20T07:18:08.289118Z",
          "iopub.execute_input": "2024-12-20T07:18:08.289536Z",
          "iopub.status.idle": "2024-12-20T07:18:08.305323Z",
          "shell.execute_reply.started": "2024-12-20T07:18:08.289485Z",
          "shell.execute_reply": "2024-12-20T07:18:08.304267Z"
        },
        "trusted": true,
        "id": "u99ljyxC7sBS"
      },
      "outputs": [],
      "execution_count": null
    },
    {
      "cell_type": "code",
      "source": [
        "def discriminator_loss(real_output, fake_output):\n",
        "    loss_f = tf.keras.losses.BinaryCrossentropy(from_logits=True)\n",
        "    real_loss = loss_f(tf.ones_like(real_output), real_output)\n",
        "    fake_loss = loss_f(tf.zeros_like(fake_output), fake_output)\n",
        "    total_loss = real_loss + fake_loss\n",
        "    return total_loss\n",
        "\n",
        "def generator_loss(fake_output):\n",
        "    loss_f = tf.keras.losses.BinaryCrossentropy(from_logits=True)\n",
        "    loss = loss_f(tf.ones_like(fake_output), fake_output)\n",
        "    return loss"
      ],
      "metadata": {
        "execution": {
          "iopub.status.busy": "2024-12-20T07:18:08.309943Z",
          "iopub.execute_input": "2024-12-20T07:18:08.312889Z",
          "iopub.status.idle": "2024-12-20T07:18:08.322434Z",
          "shell.execute_reply.started": "2024-12-20T07:18:08.312814Z",
          "shell.execute_reply": "2024-12-20T07:18:08.321471Z"
        },
        "trusted": true,
        "id": "xD9WD7NY7sBS"
      },
      "outputs": [],
      "execution_count": null
    },
    {
      "cell_type": "code",
      "source": [
        "@tf.function\n",
        "\n",
        "def train_step(real_x, real_y, yc, generator, discriminator, g_optimizer, d_optimizer):\n",
        "    with tf.GradientTape() as gen_tape, tf.GradientTape() as disc_tape:\n",
        "        generated_data = generator(real_x, training=True)\n",
        "        generated_data_reshape = tf.reshape(generated_data, [generated_data.shape[0], generated_data.shape[1], 1])\n",
        "        d_fake_input = tf.concat([tf.cast(generated_data_reshape, tf.float64), yc], axis=1)\n",
        "        real_y_reshape = tf.reshape(real_y, [real_y.shape[0], real_y.shape[1], 1])\n",
        "        d_real_input = tf.concat([real_y_reshape, yc], axis=1)\n",
        "\n",
        "        real_output = discriminator(d_real_input, training=True)\n",
        "        fake_output = discriminator(d_fake_input, training=True)\n",
        "\n",
        "        g_loss = generator_loss(fake_output)\n",
        "        disc_loss = discriminator_loss(real_output, fake_output)\n",
        "\n",
        "    gradients_of_generator = gen_tape.gradient(g_loss, generator.trainable_variables)\n",
        "    gradients_of_discriminator = disc_tape.gradient(disc_loss, discriminator.trainable_variables)\n",
        "\n",
        "    g_optimizer.apply_gradients(zip(gradients_of_generator, generator.trainable_variables))\n",
        "    d_optimizer.apply_gradients(zip(gradients_of_discriminator, discriminator.trainable_variables))\n",
        "\n",
        "    return real_y, generated_data, {'d_loss': disc_loss, 'g_loss': g_loss}"
      ],
      "metadata": {
        "execution": {
          "iopub.status.busy": "2024-12-20T07:18:08.327365Z",
          "iopub.execute_input": "2024-12-20T07:18:08.327703Z",
          "iopub.status.idle": "2024-12-20T07:18:08.342759Z",
          "shell.execute_reply.started": "2024-12-20T07:18:08.327675Z",
          "shell.execute_reply": "2024-12-20T07:18:08.341772Z"
        },
        "trusted": true,
        "id": "A2QBeRMz7sBS"
      },
      "outputs": [],
      "execution_count": null
    },
    {
      "cell_type": "code",
      "source": [
        "def train(real_x, real_y, yc, Epochs, generator, discriminator, g_optimizer, d_optimizer, checkpoint = 50):\n",
        "    train_info = {}\n",
        "    train_info[\"discriminator_loss\"] = []\n",
        "    train_info[\"generator_loss\"] = []\n",
        "\n",
        "    for epoch in tqdm(range(Epochs)):\n",
        "        real_price, fake_price, loss = train_step(real_x, real_y, yc, generator, discriminator, g_optimizer, d_optimizer)\n",
        "        G_losses = []\n",
        "        D_losses = []\n",
        "        Real_price = []\n",
        "        Predicted_price = []\n",
        "        D_losses.append(loss['d_loss'].numpy())\n",
        "        G_losses.append(loss['g_loss'].numpy())\n",
        "        Predicted_price.append(fake_price.numpy())\n",
        "        Real_price.append(real_price.numpy())\n",
        "\n",
        "        #Save model every X checkpoints\n",
        "        if (epoch + 1) % checkpoint == 0:\n",
        "            tf.keras.models.save_model(generator, f'./models_gan/{stock_name}/generator_V_%d.h5' % epoch)\n",
        "            tf.keras.models.save_model(discriminator, f'./models_gan/{stock_name}/discriminator_V_%d.h5' % epoch)\n",
        "            print('epoch', epoch + 1, 'discriminator_loss', loss['d_loss'].numpy(), 'generator_loss', loss['g_loss'].numpy())\n",
        "\n",
        "        train_info[\"discriminator_loss\"].append(D_losses)\n",
        "        train_info[\"generator_loss\"].append(G_losses)\n",
        "\n",
        "    Predicted_price = np.array(Predicted_price)\n",
        "    Predicted_price = Predicted_price.reshape(Predicted_price.shape[1], Predicted_price.shape[2])\n",
        "    Real_price = np.array(Real_price)\n",
        "    Real_price = Real_price.reshape(Real_price.shape[1], Real_price.shape[2])\n",
        "\n",
        "    plt.subplot(2,1,1)\n",
        "    plt.plot(train_info[\"discriminator_loss\"], label='Disc_loss', color='#000000')\n",
        "    plt.xlabel('Epoch')\n",
        "    plt.ylabel('Discriminator Loss')\n",
        "    plt.legend()\n",
        "\n",
        "    plt.subplot(2,1,2)\n",
        "    plt.plot(train_info[\"generator_loss\"], label='Gen_loss', color='#000000')\n",
        "    plt.xlabel('Epoch')\n",
        "    plt.ylabel('Generator Loss')\n",
        "    plt.legend()\n",
        "\n",
        "    plt.show()\n",
        "\n",
        "    return Predicted_price, Real_price, np.sqrt(mean_squared_error(Real_price, Predicted_price)) / np.mean(Real_price)"
      ],
      "metadata": {
        "execution": {
          "iopub.status.busy": "2024-12-20T07:18:08.348346Z",
          "iopub.execute_input": "2024-12-20T07:18:08.351115Z",
          "iopub.status.idle": "2024-12-20T07:18:08.365021Z",
          "shell.execute_reply.started": "2024-12-20T07:18:08.351055Z",
          "shell.execute_reply": "2024-12-20T07:18:08.364204Z"
        },
        "trusted": true,
        "id": "5q21Mbvx7sBS"
      },
      "outputs": [],
      "execution_count": null
    },
    {
      "cell_type": "code",
      "source": [
        "def plot_results(Real_price, Predicted_price, index_train):\n",
        "    X_scaler = load(open('/content/X_scaler.pkl', 'rb'))\n",
        "    y_scaler = load(open('/content/y_scaler.pkl', 'rb'))\n",
        "    train_predict_index = index_train\n",
        "\n",
        "    rescaled_Real_price = y_scaler.inverse_transform(Real_price)\n",
        "    rescaled_Predicted_price = y_scaler.inverse_transform(Predicted_price)\n",
        "\n",
        "    predict_result = pd.DataFrame()\n",
        "    for i in range(rescaled_Predicted_price.shape[0]):\n",
        "        y_predict = pd.DataFrame(rescaled_Predicted_price[i], columns=[\"predicted_price\"], index=train_predict_index[i:i+output_dim])\n",
        "        predict_result = pd.concat([predict_result, y_predict], axis=1, sort=False)\n",
        "\n",
        "    real_price = pd.DataFrame()\n",
        "    for i in range(rescaled_Real_price.shape[0]):\n",
        "        y_train = pd.DataFrame(rescaled_Real_price[i], columns=[\"real_price\"], index=train_predict_index[i:i+output_dim])\n",
        "        real_price = pd.concat([real_price, y_train], axis=1, sort=False)\n",
        "\n",
        "    predict_result['predicted_mean'] = predict_result.mean(axis=1)\n",
        "    real_price['real_mean'] = real_price.mean(axis=1)\n",
        "\n",
        "    plt.figure(figsize=(16, 8))\n",
        "    plt.plot(real_price[\"real_mean\"])\n",
        "    plt.plot(predict_result[\"predicted_mean\"], color = 'r')\n",
        "    plt.xlabel(\"Date\")\n",
        "    plt.ylabel(\"Stock price\")\n",
        "    plt.legend((\"Real price\", \"Predicted price\"), loc=\"upper left\", fontsize=16)\n",
        "    plt.title(\"The result of Training\", fontsize=20)\n",
        "    plt.show()\n",
        "\n",
        "    predicted = predict_result[\"predicted_mean\"]\n",
        "    real = real_price[\"real_mean\"]\n",
        "    For_MSE = pd.concat([predicted, real], axis = 1)\n",
        "    RMSE = np.sqrt(mean_squared_error(predicted, real))\n",
        "    print('-- Train RMSE -- ', RMSE)"
      ],
      "metadata": {
        "execution": {
          "iopub.status.busy": "2024-12-20T07:18:08.369794Z",
          "iopub.execute_input": "2024-12-20T07:18:08.370154Z",
          "iopub.status.idle": "2024-12-20T07:18:08.387139Z",
          "shell.execute_reply.started": "2024-12-20T07:18:08.370125Z",
          "shell.execute_reply": "2024-12-20T07:18:08.386064Z"
        },
        "trusted": true,
        "id": "C2cLT_bX7sBS"
      },
      "outputs": [],
      "execution_count": null
    },
    {
      "cell_type": "code",
      "source": [
        "## Test Code\n",
        "\n",
        "@tf.function\n",
        "\n",
        "def eval_op(generator, real_x):\n",
        "    generated_data = generator(real_x, training = False)\n",
        "\n",
        "    return generated_data"
      ],
      "metadata": {
        "execution": {
          "iopub.status.busy": "2024-12-20T07:18:08.388165Z",
          "iopub.execute_input": "2024-12-20T07:18:08.388567Z",
          "iopub.status.idle": "2024-12-20T07:18:08.40374Z",
          "shell.execute_reply.started": "2024-12-20T07:18:08.388534Z",
          "shell.execute_reply": "2024-12-20T07:18:08.402816Z"
        },
        "trusted": true,
        "id": "2YM834Kx7sBS"
      },
      "outputs": [],
      "execution_count": null
    },
    {
      "cell_type": "code",
      "source": [
        "def plot_test_data(Real_test_price, Predicted_test_price, index_test):\n",
        "    X_scaler = load(open('X_scaler.pkl', 'rb'))\n",
        "    y_scaler = load(open('y_scaler.pkl', 'rb'))\n",
        "    test_predict_index = index_test\n",
        "\n",
        "    rescaled_Real_price = y_scaler.inverse_transform(Real_test_price)\n",
        "    rescaled_Predicted_price = y_scaler.inverse_transform(Predicted_test_price)\n",
        "\n",
        "    predict_result = pd.DataFrame()\n",
        "    for i in range(rescaled_Predicted_price.shape[0]):\n",
        "        y_predict = pd.DataFrame(rescaled_Predicted_price[i], columns=[\"predicted_price\"], index=test_predict_index[i:i+output_dim])\n",
        "        predict_result = pd.concat([predict_result, y_predict], axis=1, sort=False)\n",
        "\n",
        "    real_price = pd.DataFrame()\n",
        "    for i in range(rescaled_Real_price.shape[0]):\n",
        "        y_train = pd.DataFrame(rescaled_Real_price[i], columns=[\"real_price\"], index=test_predict_index[i:i+output_dim])\n",
        "        real_price = pd.concat([real_price, y_train], axis=1, sort=False)\n",
        "\n",
        "    predict_result['predicted_mean'] = predict_result.mean(axis=1)\n",
        "    real_price['real_mean'] = real_price.mean(axis=1)\n",
        "\n",
        "    predicted = predict_result[\"predicted_mean\"]\n",
        "    real = real_price[\"real_mean\"]\n",
        "    For_MSE = pd.concat([predicted, real], axis = 1)\n",
        "    RMSE = np.sqrt(mean_squared_error(predicted, real))\n",
        "    print('Test RMSE: ', RMSE)\n",
        "\n",
        "    plt.figure(figsize=(16, 8))\n",
        "    plt.plot(real_price[\"real_mean\"], color='#00008B')\n",
        "    plt.plot(predict_result[\"predicted_mean\"], color = '#8B0000', linestyle='--')\n",
        "    plt.xlabel(\"Date\")\n",
        "    plt.ylabel(\"Stock price\")\n",
        "    plt.legend((\"Real price\", \"Predicted price\"), loc=\"upper left\", fontsize=16)\n",
        "    plt.title(f\"Prediction on test data for {stock_name}\", fontsize=20)\n",
        "    plt.show()\n"
      ],
      "metadata": {
        "execution": {
          "iopub.status.busy": "2024-12-20T07:18:08.408262Z",
          "iopub.execute_input": "2024-12-20T07:18:08.408591Z",
          "iopub.status.idle": "2024-12-20T07:18:08.42425Z",
          "shell.execute_reply.started": "2024-12-20T07:18:08.40856Z",
          "shell.execute_reply": "2024-12-20T07:18:08.423203Z"
        },
        "trusted": true,
        "id": "0U7pzQx77sBT"
      },
      "outputs": [],
      "execution_count": null
    },
    {
      "cell_type": "code",
      "source": [
        "learning_rate = 5e-4\n",
        "epochs = 500\n",
        "\n",
        "g_optimizer = tf.keras.optimizers.Adam(lr = learning_rate)\n",
        "d_optimizer = tf.keras.optimizers.Adam(lr = learning_rate)\n",
        "\n",
        "generator = make_generator_model(X_train.shape[1], output_dim, X_train.shape[2])\n",
        "discriminator = make_discriminator_model(X_train.shape[1])"
      ],
      "metadata": {
        "execution": {
          "iopub.status.busy": "2024-12-20T07:18:08.427571Z",
          "iopub.execute_input": "2024-12-20T07:18:08.427975Z",
          "iopub.status.idle": "2024-12-20T07:18:10.88936Z",
          "shell.execute_reply.started": "2024-12-20T07:18:08.427943Z",
          "shell.execute_reply": "2024-12-20T07:18:10.888431Z"
        },
        "trusted": true,
        "id": "O_fu7Dt-7sBT"
      },
      "outputs": [],
      "execution_count": null
    },
    {
      "cell_type": "code",
      "source": [
        "plot_model(generator, to_file='generator_keras_model.png', show_shapes=True)"
      ],
      "metadata": {
        "_kg_hide-output": true,
        "execution": {
          "iopub.status.busy": "2024-12-20T07:18:10.893584Z",
          "iopub.execute_input": "2024-12-20T07:18:10.896064Z",
          "iopub.status.idle": "2024-12-20T07:18:12.237081Z",
          "shell.execute_reply.started": "2024-12-20T07:18:10.896022Z",
          "shell.execute_reply": "2024-12-20T07:18:12.236003Z"
        },
        "trusted": true,
        "id": "FML3VnZV7sBT"
      },
      "outputs": [],
      "execution_count": null
    },
    {
      "cell_type": "code",
      "source": [
        "tf.keras.utils.plot_model(discriminator, to_file='discriminator_keras_model.png', show_shapes=True)"
      ],
      "metadata": {
        "_kg_hide-output": true,
        "execution": {
          "iopub.status.busy": "2024-12-20T07:18:12.241231Z",
          "iopub.execute_input": "2024-12-20T07:18:12.241944Z",
          "iopub.status.idle": "2024-12-20T07:18:12.417691Z",
          "shell.execute_reply.started": "2024-12-20T07:18:12.241904Z",
          "shell.execute_reply": "2024-12-20T07:18:12.416504Z"
        },
        "trusted": true,
        "id": "1tCCpqOM7sBT"
      },
      "outputs": [],
      "execution_count": null
    },
    {
      "cell_type": "code",
      "source": [
        "predicted_price, real_price, RMSPE = train(X_train, y_train, yc_train, epochs, generator, discriminator, g_optimizer, d_optimizer)"
      ],
      "metadata": {
        "execution": {
          "iopub.status.busy": "2024-12-20T07:18:12.422595Z",
          "iopub.execute_input": "2024-12-20T07:18:12.424701Z"
        },
        "trusted": true,
        "id": "Ggo8_1D37sBT"
      },
      "outputs": [],
      "execution_count": null
    },
    {
      "cell_type": "code",
      "source": [
        "test_generator = tf.keras.models.load_model(f'./models_gan/{stock_name}/generator_V_{epochs-1}.h5')"
      ],
      "metadata": {
        "trusted": true,
        "id": "dbshlisU7sBU"
      },
      "outputs": [],
      "execution_count": null
    },
    {
      "cell_type": "markdown",
      "source": [
        "Predict and plot results for test data:"
      ],
      "metadata": {
        "id": "Dz6dkSzC7sBU"
      }
    },
    {
      "cell_type": "code",
      "source": [
        "predicted_test_data = eval_op(test_generator, X_test)\n",
        "plot_test_data(y_test, predicted_test_data,index_test)"
      ],
      "metadata": {
        "trusted": true,
        "id": "kvtqDk0H7sBU"
      },
      "outputs": [],
      "execution_count": null
    }
  ]
}